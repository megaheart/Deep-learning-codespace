{
 "cells": [
  {
   "cell_type": "code",
   "execution_count": null,
   "metadata": {},
   "outputs": [],
   "source": [
    "%pip install ortools"
   ]
  },
  {
   "cell_type": "code",
   "execution_count": null,
   "metadata": {},
   "outputs": [],
   "source": [
    "from ortools.linear_solver import pywraplp\n",
    "\n",
    "\n",
    "def LinearProgrammingExample():\n",
    "    \"\"\"Linear programming sample.\"\"\"\n",
    "    # Instantiate a Glop solver, naming it LinearExample.\n",
    "    solver = pywraplp.Solver.CreateSolver(\"GLOP\")\n",
    "    if not solver:\n",
    "        return\n",
    "\n",
    "    # Create the two variables and let them take on any non-negative value.\n",
    "    x = solver.NumVar(0, solver.infinity(), \"x\")\n",
    "    y = solver.NumVar(0, solver.infinity(), \"y\")\n",
    "\n",
    "    print(\"Number of variables =\", solver.NumVariables())\n",
    "\n",
    "    # Constraint 0: x + 2y <= 14.\n",
    "    solver.Add(x + 2 * y <= 14.0)\n",
    "\n",
    "    # Constraint 1: 3x - y >= 0.\n",
    "    solver.Add(3 * x - y >= 0.0)\n",
    "\n",
    "    # Constraint 2: x - y <= 2.\n",
    "    solver.Add(x - y <= 2.0)\n",
    "\n",
    "    print(\"Number of constraints =\", solver.NumConstraints())\n",
    "\n",
    "    # Objective function: 3x + 4y.\n",
    "    solver.Maximize(3 * x + 4 * y)\n",
    "\n",
    "    # Solve the system.\n",
    "    status = solver.Solve()\n",
    "\n",
    "    if status == pywraplp.Solver.OPTIMAL:\n",
    "        print(\"Solution:\")\n",
    "        print(\"Objective value =\", solver.Objective().Value())\n",
    "        print(\"x =\", x.solution_value())\n",
    "        print(\"y =\", y.solution_value())\n",
    "    else:\n",
    "        print(\"The problem does not have an optimal solution.\")\n",
    "\n",
    "    print(\"\\nAdvanced usage:\")\n",
    "    print(\"Problem solved in %f milliseconds\" % solver.wall_time())\n",
    "    print(\"Problem solved in %d iterations\" % solver.iterations())\n",
    "\n",
    "\n",
    "LinearProgrammingExample()"
   ]
  }
 ],
 "metadata": {
  "kernelspec": {
   "display_name": "Python 3",
   "language": "python",
   "name": "python3"
  },
  "language_info": {
   "name": "python",
   "version": "3.10.8"
  }
 },
 "nbformat": 4,
 "nbformat_minor": 2
}
