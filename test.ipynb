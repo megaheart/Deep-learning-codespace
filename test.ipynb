{
 "cells": [
  {
   "cell_type": "code",
   "execution_count": 1,
   "metadata": {},
   "outputs": [
    {
     "name": "stdout",
     "output_type": "stream",
     "text": [
      "Collecting ortools\n",
      "  Downloading ortools-9.7.2996-cp310-cp310-manylinux_2_17_x86_64.manylinux2014_x86_64.whl.metadata (2.8 kB)\n",
      "Collecting absl-py>=0.13 (from ortools)\n",
      "  Downloading absl_py-2.0.0-py3-none-any.whl.metadata (2.3 kB)\n",
      "Requirement already satisfied: numpy>=1.13.3 in /home/codespace/.local/lib/python3.10/site-packages (from ortools) (1.26.1)\n",
      "Collecting protobuf>=4.23.3 (from ortools)\n",
      "  Downloading protobuf-4.24.4-cp37-abi3-manylinux2014_x86_64.whl.metadata (540 bytes)\n",
      "Downloading ortools-9.7.2996-cp310-cp310-manylinux_2_17_x86_64.manylinux2014_x86_64.whl (21.1 MB)\n",
      "\u001b[2K   \u001b[90m━━━━━━━━━━━━━━━━━━━━━━━━━━━━━━━━━━━━━━━━\u001b[0m \u001b[32m21.1/21.1 MB\u001b[0m \u001b[31m37.1 MB/s\u001b[0m eta \u001b[36m0:00:00\u001b[0m:00:01\u001b[0m00:01\u001b[0m\n",
      "\u001b[?25hDownloading absl_py-2.0.0-py3-none-any.whl (130 kB)\n",
      "\u001b[2K   \u001b[90m━━━━━━━━━━━━━━━━━━━━━━━━━━━━━━━━━━━━━━━━\u001b[0m \u001b[32m130.2/130.2 kB\u001b[0m \u001b[31m4.0 MB/s\u001b[0m eta \u001b[36m0:00:00\u001b[0m\n",
      "\u001b[?25hDownloading protobuf-4.24.4-cp37-abi3-manylinux2014_x86_64.whl (311 kB)\n",
      "\u001b[2K   \u001b[90m━━━━━━━━━━━━━━━━━━━━━━━━━━━━━━━━━━━━━━━━\u001b[0m \u001b[32m311.6/311.6 kB\u001b[0m \u001b[31m8.6 MB/s\u001b[0m eta \u001b[36m0:00:00\u001b[0m:00:01\u001b[0m\n",
      "\u001b[?25hInstalling collected packages: protobuf, absl-py, ortools\n",
      "Successfully installed absl-py-2.0.0 ortools-9.7.2996 protobuf-4.24.4\n",
      "\n",
      "\u001b[1m[\u001b[0m\u001b[34;49mnotice\u001b[0m\u001b[1;39;49m]\u001b[0m\u001b[39;49m A new release of pip is available: \u001b[0m\u001b[31;49m23.3\u001b[0m\u001b[39;49m -> \u001b[0m\u001b[32;49m23.3.1\u001b[0m\n",
      "\u001b[1m[\u001b[0m\u001b[34;49mnotice\u001b[0m\u001b[1;39;49m]\u001b[0m\u001b[39;49m To update, run: \u001b[0m\u001b[32;49mpip install --upgrade pip\u001b[0m\n",
      "Note: you may need to restart the kernel to use updated packages.\n"
     ]
    }
   ],
   "source": [
    "%pip install ortools"
   ]
  },
  {
   "cell_type": "code",
   "execution_count": 2,
   "metadata": {},
   "outputs": [
    {
     "name": "stdout",
     "output_type": "stream",
     "text": [
      "Number of variables = 2\n",
      "Number of constraints = 3\n",
      "Solution:\n",
      "Objective value = 33.99999999999999\n",
      "x = 5.999999999999998\n",
      "y = 3.9999999999999996\n",
      "\n",
      "Advanced usage:\n",
      "Problem solved in 0.000000 milliseconds\n",
      "Problem solved in 2 iterations\n"
     ]
    }
   ],
   "source": [
    "from ortools.linear_solver import pywraplp\n",
    "\n",
    "\n",
    "def LinearProgrammingExample():\n",
    "    \"\"\"Linear programming sample.\"\"\"\n",
    "    # Instantiate a Glop solver, naming it LinearExample.\n",
    "    solver = pywraplp.Solver.CreateSolver(\"GLOP\")\n",
    "    if not solver:\n",
    "        return\n",
    "\n",
    "    # Create the two variables and let them take on any non-negative value.\n",
    "    x = solver.NumVar(0, solver.infinity(), \"x\")\n",
    "    y = solver.NumVar(0, solver.infinity(), \"y\")\n",
    "\n",
    "    print(\"Number of variables =\", solver.NumVariables())\n",
    "\n",
    "    # Constraint 0: x + 2y <= 14.\n",
    "    solver.Add(x + 2 * y <= 14.0)\n",
    "\n",
    "    # Constraint 1: 3x - y >= 0.\n",
    "    solver.Add(3 * x - y >= 0.0)\n",
    "\n",
    "    # Constraint 2: x - y <= 2.\n",
    "    solver.Add(x - y <= 2.0)\n",
    "\n",
    "    print(\"Number of constraints =\", solver.NumConstraints())\n",
    "\n",
    "    # Objective function: 3x + 4y.\n",
    "    solver.Maximize(3 * x + 4 * y)\n",
    "\n",
    "    # Solve the system.\n",
    "    status = solver.Solve()\n",
    "\n",
    "    if status == pywraplp.Solver.OPTIMAL:\n",
    "        print(\"Solution:\")\n",
    "        print(\"Objective value =\", solver.Objective().Value())\n",
    "        print(\"x =\", x.solution_value())\n",
    "        print(\"y =\", y.solution_value())\n",
    "    else:\n",
    "        print(\"The problem does not have an optimal solution.\")\n",
    "\n",
    "    print(\"\\nAdvanced usage:\")\n",
    "    print(\"Problem solved in %f milliseconds\" % solver.wall_time())\n",
    "    print(\"Problem solved in %d iterations\" % solver.iterations())\n",
    "\n",
    "\n",
    "LinearProgrammingExample()"
   ]
  }
 ],
 "metadata": {
  "kernelspec": {
   "display_name": "Python 3",
   "language": "python",
   "name": "python3"
  },
  "language_info": {
   "codemirror_mode": {
    "name": "ipython",
    "version": 3
   },
   "file_extension": ".py",
   "mimetype": "text/x-python",
   "name": "python",
   "nbconvert_exporter": "python",
   "pygments_lexer": "ipython3",
   "version": "3.10.8"
  }
 },
 "nbformat": 4,
 "nbformat_minor": 2
}
